{
 "cells": [
  {
   "cell_type": "markdown",
   "id": "e42e3ebf",
   "metadata": {
    "papermill": {
     "duration": 0.011641,
     "end_time": "2024-05-08T08:30:02.827046",
     "exception": false,
     "start_time": "2024-05-08T08:30:02.815405",
     "status": "completed"
    },
    "tags": []
   },
   "source": [
    "# The Situation at Hand\n",
    "> This is a project walthrough for an operation analysis worklog for Adventure Works Cycles, a fictitious bicycle manufacturer. "
   ]
  },
  {
   "cell_type": "markdown",
   "id": "4752c39a",
   "metadata": {
    "papermill": {
     "duration": 0.011143,
     "end_time": "2024-05-08T08:30:02.849537",
     "exception": false,
     "start_time": "2024-05-08T08:30:02.838394",
     "status": "completed"
    },
    "tags": []
   },
   "source": [
    "* With certain departments facing a high turnover rate, a struggle to attract and retain top talent, low work performance and output, and a constant hum of employee complaints and strikes, it’s clear that the ride has been anything but smooth for Adventure Works Cycles, a fictitious bicycle manufacturer. \n",
    "\n",
    "* In the face of these challenges, the HR manager has posed a critical question for the operations analysis data team: ‘How does our organization fare in terms of Market Competitiveness and Pay Equity?’ It’s a question that holds the key to understanding the current predicament and, more importantly, charting the course for a smoother journey ahead.\n",
    "\n",
    "* This blog post is your behind-the-scenes pass to the rigorous analysis process undertaken by our data analyst in response to this question. From the initial data collection to the final insights, we’ll walk you through each step of the journey, shedding light on the intricate workings of HR operations analysis."
   ]
  },
  {
   "cell_type": "markdown",
   "id": "2fad221c",
   "metadata": {
    "papermill": {
     "duration": 0.010723,
     "end_time": "2024-05-08T08:30:02.871446",
     "exception": false,
     "start_time": "2024-05-08T08:30:02.860723",
     "status": "completed"
    },
    "tags": []
   },
   "source": [
    "# Data Preparation"
   ]
  },
  {
   "cell_type": "code",
   "execution_count": 1,
   "id": "e88e42f1",
   "metadata": {
    "_cell_guid": "cb8492c0-26ad-483a-aa98-f5b26d979d8d",
    "_uuid": "c77d3211-9bb0-4b6e-8040-2593434133c6",
    "collapsed": false,
    "execution": {
     "iopub.execute_input": "2024-05-08T08:30:02.895779Z",
     "iopub.status.busy": "2024-05-08T08:30:02.895080Z",
     "iopub.status.idle": "2024-05-08T08:30:23.345876Z",
     "shell.execute_reply": "2024-05-08T08:30:23.343963Z"
    },
    "jupyter": {
     "outputs_hidden": false
    },
    "papermill": {
     "duration": 20.4662,
     "end_time": "2024-05-08T08:30:23.348816",
     "exception": false,
     "start_time": "2024-05-08T08:30:02.882616",
     "status": "completed"
    },
    "tags": []
   },
   "outputs": [
    {
     "name": "stdout",
     "output_type": "stream",
     "text": [
      "Collecting pyforest\r\n",
      "  Downloading pyforest-1.1.0.tar.gz (15 kB)\r\n",
      "  Preparing metadata (setup.py) ... \u001b[?25l-\b \b\\\b \b|\b \bdone\r\n",
      "\u001b[?25hBuilding wheels for collected packages: pyforest\r\n",
      "  Building wheel for pyforest (setup.py) ... \u001b[?25l-\b \b\\\b \b|\b \b/\b \bdone\r\n",
      "\u001b[?25h  Created wheel for pyforest: filename=pyforest-1.1.0-py2.py3-none-any.whl size=14606 sha256=c65d65398f5bc8dd716c25311541a8c6ab904009d2a15ffd9a8c62aad06770a5\r\n",
      "  Stored in directory: /root/.cache/pip/wheels/9e/7d/2c/5d2f5e62de376c386fd3bf5a8e5bd119ace6a9f48f49df6017\r\n",
      "Successfully built pyforest\r\n",
      "Installing collected packages: pyforest\r\n",
      "Successfully installed pyforest-1.1.0\r\n",
      "Note: you may need to restart the kernel to use updated packages.\n"
     ]
    }
   ],
   "source": [
    "pip install pyforest"
   ]
  },
  {
   "cell_type": "code",
   "execution_count": 2,
   "id": "fcabcb24",
   "metadata": {
    "execution": {
     "iopub.execute_input": "2024-05-08T08:30:23.376179Z",
     "iopub.status.busy": "2024-05-08T08:30:23.375763Z",
     "iopub.status.idle": "2024-05-08T08:30:23.861421Z",
     "shell.execute_reply": "2024-05-08T08:30:23.860220Z"
    },
    "papermill": {
     "duration": 0.502394,
     "end_time": "2024-05-08T08:30:23.864019",
     "exception": false,
     "start_time": "2024-05-08T08:30:23.361625",
     "status": "completed"
    },
    "tags": []
   },
   "outputs": [],
   "source": [
    "import pyforest"
   ]
  },
  {
   "cell_type": "code",
   "execution_count": 3,
   "id": "87f4a622",
   "metadata": {
    "_cell_guid": "5753b021-259a-40b2-8a4a-b8e86134497a",
    "_uuid": "e58180ef-3e09-48d6-9486-c373c5a15347",
    "collapsed": false,
    "execution": {
     "iopub.execute_input": "2024-05-08T08:30:23.891561Z",
     "iopub.status.busy": "2024-05-08T08:30:23.891160Z",
     "iopub.status.idle": "2024-05-08T08:30:25.527501Z",
     "shell.execute_reply": "2024-05-08T08:30:25.525962Z"
    },
    "jupyter": {
     "outputs_hidden": false
    },
    "papermill": {
     "duration": 1.652878,
     "end_time": "2024-05-08T08:30:25.530457",
     "exception": false,
     "start_time": "2024-05-08T08:30:23.877579",
     "status": "completed"
    },
    "tags": []
   },
   "outputs": [
    {
     "data": {
      "application/javascript": [
       "\n",
       "        if (window._pyforest_update_imports_cell) { window._pyforest_update_imports_cell('import pandas as pd'); }\n",
       "    "
      ],
      "text/plain": [
       "<IPython.core.display.Javascript object>"
      ]
     },
     "metadata": {},
     "output_type": "display_data"
    },
    {
     "name": "stdout",
     "output_type": "stream",
     "text": [
      "<bound method NDFrame.head of      BusinessEntityID                   Full Name  \\\n",
      "0                   1               Ken.J.Sánchez   \n",
      "1                   2             Terri.Lee.Duffy   \n",
      "2                   3         Roberto..Tamburello   \n",
      "3                   4                Rob..Walters   \n",
      "4                   5             Gail.A.Erickson   \n",
      "..                ...                         ...   \n",
      "285               286             Lynn.N.Tsoflias   \n",
      "286               287               Amy.E.Alberts   \n",
      "287               288             Rachel.B.Valdez   \n",
      "288               289                   Jae.B.Pak   \n",
      "289               290  Ranjit.R.Varkey Chudukatil   \n",
      "\n",
      "                          JobTitle   Department  \\\n",
      "0          Chief Executive Officer    Executive   \n",
      "1    Vice President of Engineering  Engineering   \n",
      "2              Engineering Manager  Engineering   \n",
      "3             Senior Tool Designer  Engineering   \n",
      "4                  Design Engineer  Engineering   \n",
      "..                             ...          ...   \n",
      "285           Sales Representative        Sales   \n",
      "286         European Sales Manager        Sales   \n",
      "287           Sales Representative        Sales   \n",
      "288           Sales Representative        Sales   \n",
      "289           Sales Representative        Sales   \n",
      "\n",
      "                      Department_Category   DOB  Age  HireYear  Company LOS  \\\n",
      "0    Executive General and Administration  1969   55      2009           15   \n",
      "1                Research and Development  1971   53      2008           16   \n",
      "2                Research and Development  1974   50      2007           17   \n",
      "3                Research and Development  1974   50      2007           17   \n",
      "4                Research and Development  1952   72      2008           16   \n",
      "..                                    ...   ...  ...       ...          ...   \n",
      "285                   Sales and Marketing  1977   47      2013           11   \n",
      "286                   Sales and Marketing  1957   67      2012           12   \n",
      "287                   Sales and Marketing  1975   49      2013           11   \n",
      "288                   Sales and Marketing  1968   56      2012           12   \n",
      "289                   Sales and Marketing  1975   49      2012           12   \n",
      "\n",
      "     Gender Marital Status  Shift_ID Shift Name  Hourly Pay Rate PayFrequency  \n",
      "0      Male         Single         1        Day         125.5000     Biweekly  \n",
      "1    Female         Single         1        Day          63.4615     Biweekly  \n",
      "2      Male        Married         1        Day          43.2692     Biweekly  \n",
      "3      Male         Single         1        Day           8.6200     Biweekly  \n",
      "4    Female        Married         1        Day          32.6923     Biweekly  \n",
      "..      ...            ...       ...        ...              ...          ...  \n",
      "285  Female         Single         1        Day          23.0769     Biweekly  \n",
      "286  Female        Married         1        Day          48.1010     Biweekly  \n",
      "287  Female         Single         1        Day          23.0769     Biweekly  \n",
      "288  Female        Married         1        Day          23.0769     Biweekly  \n",
      "289    Male         Single         1        Day          23.0769     Biweekly  \n",
      "\n",
      "[290 rows x 15 columns]>\n"
     ]
    }
   ],
   "source": [
    "# loading and reading dataset\n",
    "df = pd.read_excel(\"/kaggle/input/hr-dataset1/HR analysis.xlsx\")\n",
    "print(df.head)"
   ]
  },
  {
   "cell_type": "code",
   "execution_count": 4,
   "id": "68a89c84",
   "metadata": {
    "_cell_guid": "b58af027-23e9-4991-a2c4-e7007c35ed78",
    "_uuid": "b3184eac-8b99-4536-afc2-9f49a79a8bf4",
    "collapsed": false,
    "execution": {
     "iopub.execute_input": "2024-05-08T08:30:25.558305Z",
     "iopub.status.busy": "2024-05-08T08:30:25.557795Z",
     "iopub.status.idle": "2024-05-08T08:30:25.579392Z",
     "shell.execute_reply": "2024-05-08T08:30:25.578081Z"
    },
    "jupyter": {
     "outputs_hidden": false
    },
    "papermill": {
     "duration": 0.038133,
     "end_time": "2024-05-08T08:30:25.581821",
     "exception": false,
     "start_time": "2024-05-08T08:30:25.543688",
     "status": "completed"
    },
    "tags": []
   },
   "outputs": [
    {
     "data": {
      "text/html": [
       "<div>\n",
       "<style scoped>\n",
       "    .dataframe tbody tr th:only-of-type {\n",
       "        vertical-align: middle;\n",
       "    }\n",
       "\n",
       "    .dataframe tbody tr th {\n",
       "        vertical-align: top;\n",
       "    }\n",
       "\n",
       "    .dataframe thead th {\n",
       "        text-align: right;\n",
       "    }\n",
       "</style>\n",
       "<table border=\"1\" class=\"dataframe\">\n",
       "  <thead>\n",
       "    <tr style=\"text-align: right;\">\n",
       "      <th></th>\n",
       "      <th>BusinessEntityID</th>\n",
       "      <th>Full Name</th>\n",
       "      <th>JobTitle</th>\n",
       "      <th>Department</th>\n",
       "      <th>Department_Category</th>\n",
       "      <th>DOB</th>\n",
       "      <th>Age</th>\n",
       "      <th>HireYear</th>\n",
       "      <th>Company LOS</th>\n",
       "      <th>Gender</th>\n",
       "      <th>Marital Status</th>\n",
       "      <th>Shift_ID</th>\n",
       "      <th>Shift Name</th>\n",
       "      <th>Hourly Pay Rate</th>\n",
       "      <th>PayFrequency</th>\n",
       "    </tr>\n",
       "  </thead>\n",
       "  <tbody>\n",
       "    <tr>\n",
       "      <th>0</th>\n",
       "      <td>1</td>\n",
       "      <td>Ken.J.Sánchez</td>\n",
       "      <td>Chief Executive Officer</td>\n",
       "      <td>Executive</td>\n",
       "      <td>Executive General and Administration</td>\n",
       "      <td>1969</td>\n",
       "      <td>55</td>\n",
       "      <td>2009</td>\n",
       "      <td>15</td>\n",
       "      <td>Male</td>\n",
       "      <td>Single</td>\n",
       "      <td>1</td>\n",
       "      <td>Day</td>\n",
       "      <td>125.5000</td>\n",
       "      <td>Biweekly</td>\n",
       "    </tr>\n",
       "    <tr>\n",
       "      <th>1</th>\n",
       "      <td>2</td>\n",
       "      <td>Terri.Lee.Duffy</td>\n",
       "      <td>Vice President of Engineering</td>\n",
       "      <td>Engineering</td>\n",
       "      <td>Research and Development</td>\n",
       "      <td>1971</td>\n",
       "      <td>53</td>\n",
       "      <td>2008</td>\n",
       "      <td>16</td>\n",
       "      <td>Female</td>\n",
       "      <td>Single</td>\n",
       "      <td>1</td>\n",
       "      <td>Day</td>\n",
       "      <td>63.4615</td>\n",
       "      <td>Biweekly</td>\n",
       "    </tr>\n",
       "    <tr>\n",
       "      <th>2</th>\n",
       "      <td>3</td>\n",
       "      <td>Roberto..Tamburello</td>\n",
       "      <td>Engineering Manager</td>\n",
       "      <td>Engineering</td>\n",
       "      <td>Research and Development</td>\n",
       "      <td>1974</td>\n",
       "      <td>50</td>\n",
       "      <td>2007</td>\n",
       "      <td>17</td>\n",
       "      <td>Male</td>\n",
       "      <td>Married</td>\n",
       "      <td>1</td>\n",
       "      <td>Day</td>\n",
       "      <td>43.2692</td>\n",
       "      <td>Biweekly</td>\n",
       "    </tr>\n",
       "    <tr>\n",
       "      <th>3</th>\n",
       "      <td>4</td>\n",
       "      <td>Rob..Walters</td>\n",
       "      <td>Senior Tool Designer</td>\n",
       "      <td>Engineering</td>\n",
       "      <td>Research and Development</td>\n",
       "      <td>1974</td>\n",
       "      <td>50</td>\n",
       "      <td>2007</td>\n",
       "      <td>17</td>\n",
       "      <td>Male</td>\n",
       "      <td>Single</td>\n",
       "      <td>1</td>\n",
       "      <td>Day</td>\n",
       "      <td>8.6200</td>\n",
       "      <td>Biweekly</td>\n",
       "    </tr>\n",
       "    <tr>\n",
       "      <th>4</th>\n",
       "      <td>5</td>\n",
       "      <td>Gail.A.Erickson</td>\n",
       "      <td>Design Engineer</td>\n",
       "      <td>Engineering</td>\n",
       "      <td>Research and Development</td>\n",
       "      <td>1952</td>\n",
       "      <td>72</td>\n",
       "      <td>2008</td>\n",
       "      <td>16</td>\n",
       "      <td>Female</td>\n",
       "      <td>Married</td>\n",
       "      <td>1</td>\n",
       "      <td>Day</td>\n",
       "      <td>32.6923</td>\n",
       "      <td>Biweekly</td>\n",
       "    </tr>\n",
       "  </tbody>\n",
       "</table>\n",
       "</div>"
      ],
      "text/plain": [
       "   BusinessEntityID            Full Name                       JobTitle  \\\n",
       "0                 1        Ken.J.Sánchez        Chief Executive Officer   \n",
       "1                 2      Terri.Lee.Duffy  Vice President of Engineering   \n",
       "2                 3  Roberto..Tamburello            Engineering Manager   \n",
       "3                 4         Rob..Walters           Senior Tool Designer   \n",
       "4                 5      Gail.A.Erickson                Design Engineer   \n",
       "\n",
       "    Department                   Department_Category   DOB  Age  HireYear  \\\n",
       "0    Executive  Executive General and Administration  1969   55      2009   \n",
       "1  Engineering              Research and Development  1971   53      2008   \n",
       "2  Engineering              Research and Development  1974   50      2007   \n",
       "3  Engineering              Research and Development  1974   50      2007   \n",
       "4  Engineering              Research and Development  1952   72      2008   \n",
       "\n",
       "   Company LOS  Gender Marital Status  Shift_ID Shift Name  Hourly Pay Rate  \\\n",
       "0           15    Male         Single         1        Day         125.5000   \n",
       "1           16  Female         Single         1        Day          63.4615   \n",
       "2           17    Male        Married         1        Day          43.2692   \n",
       "3           17    Male         Single         1        Day           8.6200   \n",
       "4           16  Female        Married         1        Day          32.6923   \n",
       "\n",
       "  PayFrequency  \n",
       "0     Biweekly  \n",
       "1     Biweekly  \n",
       "2     Biweekly  \n",
       "3     Biweekly  \n",
       "4     Biweekly  "
      ]
     },
     "execution_count": 4,
     "metadata": {},
     "output_type": "execute_result"
    }
   ],
   "source": [
    "# reading top 5 records\n",
    "df.head()"
   ]
  },
  {
   "cell_type": "code",
   "execution_count": 5,
   "id": "89e76c11",
   "metadata": {
    "_cell_guid": "b64eb171-13ac-4574-bf5d-965a4050f47b",
    "_uuid": "89b1deaf-558a-4dd8-8c46-b50c3e3688da",
    "collapsed": false,
    "execution": {
     "iopub.execute_input": "2024-05-08T08:30:25.610365Z",
     "iopub.status.busy": "2024-05-08T08:30:25.609931Z",
     "iopub.status.idle": "2024-05-08T08:30:25.631139Z",
     "shell.execute_reply": "2024-05-08T08:30:25.630042Z"
    },
    "jupyter": {
     "outputs_hidden": false
    },
    "papermill": {
     "duration": 0.038609,
     "end_time": "2024-05-08T08:30:25.633822",
     "exception": false,
     "start_time": "2024-05-08T08:30:25.595213",
     "status": "completed"
    },
    "tags": []
   },
   "outputs": [
    {
     "name": "stdout",
     "output_type": "stream",
     "text": [
      "<class 'pandas.core.frame.DataFrame'>\n",
      "RangeIndex: 290 entries, 0 to 289\n",
      "Data columns (total 15 columns):\n",
      " #   Column               Non-Null Count  Dtype  \n",
      "---  ------               --------------  -----  \n",
      " 0   BusinessEntityID     290 non-null    int64  \n",
      " 1   Full Name            290 non-null    object \n",
      " 2   JobTitle             290 non-null    object \n",
      " 3   Department           290 non-null    object \n",
      " 4   Department_Category  290 non-null    object \n",
      " 5   DOB                  290 non-null    int64  \n",
      " 6   Age                  290 non-null    int64  \n",
      " 7   HireYear             290 non-null    int64  \n",
      " 8   Company LOS          290 non-null    int64  \n",
      " 9   Gender               290 non-null    object \n",
      " 10  Marital Status       290 non-null    object \n",
      " 11  Shift_ID             290 non-null    int64  \n",
      " 12  Shift Name           290 non-null    object \n",
      " 13  Hourly Pay Rate      290 non-null    float64\n",
      " 14  PayFrequency         290 non-null    object \n",
      "dtypes: float64(1), int64(6), object(8)\n",
      "memory usage: 34.1+ KB\n"
     ]
    }
   ],
   "source": [
    "#data information \n",
    "df.info()"
   ]
  },
  {
   "cell_type": "code",
   "execution_count": 6,
   "id": "b6045a4a",
   "metadata": {
    "_cell_guid": "bf85d793-b2fa-4b6f-8176-04760116bd2c",
    "_uuid": "556e71ae-7865-4c80-9ea5-5ecf4e3e44ae",
    "collapsed": false,
    "execution": {
     "iopub.execute_input": "2024-05-08T08:30:25.663077Z",
     "iopub.status.busy": "2024-05-08T08:30:25.662195Z",
     "iopub.status.idle": "2024-05-08T08:30:25.671927Z",
     "shell.execute_reply": "2024-05-08T08:30:25.670832Z"
    },
    "jupyter": {
     "outputs_hidden": false
    },
    "papermill": {
     "duration": 0.026801,
     "end_time": "2024-05-08T08:30:25.674299",
     "exception": false,
     "start_time": "2024-05-08T08:30:25.647498",
     "status": "completed"
    },
    "tags": []
   },
   "outputs": [
    {
     "data": {
      "text/plain": [
       "BusinessEntityID       0\n",
       "Full Name              0\n",
       "JobTitle               0\n",
       "Department             0\n",
       "Department_Category    0\n",
       "DOB                    0\n",
       "Age                    0\n",
       "HireYear               0\n",
       "Company LOS            0\n",
       "Gender                 0\n",
       "Marital Status         0\n",
       "Shift_ID               0\n",
       "Shift Name             0\n",
       "Hourly Pay Rate        0\n",
       "PayFrequency           0\n",
       "dtype: int64"
      ]
     },
     "execution_count": 6,
     "metadata": {},
     "output_type": "execute_result"
    }
   ],
   "source": [
    "# Checking for null values\n",
    "df.isnull().sum()"
   ]
  },
  {
   "cell_type": "code",
   "execution_count": 7,
   "id": "d64ade6d",
   "metadata": {
    "_cell_guid": "e38cec3e-ea73-482d-8978-bd70a67974dd",
    "_uuid": "9a7d0177-0016-4687-9274-4da4ef838ef2",
    "collapsed": false,
    "execution": {
     "iopub.execute_input": "2024-05-08T08:30:25.703316Z",
     "iopub.status.busy": "2024-05-08T08:30:25.702903Z",
     "iopub.status.idle": "2024-05-08T08:30:25.736729Z",
     "shell.execute_reply": "2024-05-08T08:30:25.735515Z"
    },
    "jupyter": {
     "outputs_hidden": false
    },
    "papermill": {
     "duration": 0.05132,
     "end_time": "2024-05-08T08:30:25.739299",
     "exception": false,
     "start_time": "2024-05-08T08:30:25.687979",
     "status": "completed"
    },
    "tags": []
   },
   "outputs": [
    {
     "data": {
      "text/html": [
       "<div>\n",
       "<style scoped>\n",
       "    .dataframe tbody tr th:only-of-type {\n",
       "        vertical-align: middle;\n",
       "    }\n",
       "\n",
       "    .dataframe tbody tr th {\n",
       "        vertical-align: top;\n",
       "    }\n",
       "\n",
       "    .dataframe thead th {\n",
       "        text-align: right;\n",
       "    }\n",
       "</style>\n",
       "<table border=\"1\" class=\"dataframe\">\n",
       "  <thead>\n",
       "    <tr style=\"text-align: right;\">\n",
       "      <th></th>\n",
       "      <th>BusinessEntityID</th>\n",
       "      <th>DOB</th>\n",
       "      <th>Age</th>\n",
       "      <th>HireYear</th>\n",
       "      <th>Company LOS</th>\n",
       "      <th>Shift_ID</th>\n",
       "      <th>Hourly Pay Rate</th>\n",
       "    </tr>\n",
       "  </thead>\n",
       "  <tbody>\n",
       "    <tr>\n",
       "      <th>count</th>\n",
       "      <td>290.000000</td>\n",
       "      <td>290.000000</td>\n",
       "      <td>290.000000</td>\n",
       "      <td>290.000000</td>\n",
       "      <td>290.000000</td>\n",
       "      <td>290.000000</td>\n",
       "      <td>290.000000</td>\n",
       "    </tr>\n",
       "    <tr>\n",
       "      <th>mean</th>\n",
       "      <td>145.500000</td>\n",
       "      <td>1978.017241</td>\n",
       "      <td>45.982759</td>\n",
       "      <td>2009.017241</td>\n",
       "      <td>14.982759</td>\n",
       "      <td>1.572414</td>\n",
       "      <td>17.819179</td>\n",
       "    </tr>\n",
       "    <tr>\n",
       "      <th>std</th>\n",
       "      <td>83.860002</td>\n",
       "      <td>9.246886</td>\n",
       "      <td>9.246886</td>\n",
       "      <td>1.006748</td>\n",
       "      <td>1.006748</td>\n",
       "      <td>0.778116</td>\n",
       "      <td>12.114226</td>\n",
       "    </tr>\n",
       "    <tr>\n",
       "      <th>min</th>\n",
       "      <td>1.000000</td>\n",
       "      <td>1951.000000</td>\n",
       "      <td>33.000000</td>\n",
       "      <td>2006.000000</td>\n",
       "      <td>11.000000</td>\n",
       "      <td>1.000000</td>\n",
       "      <td>6.500000</td>\n",
       "    </tr>\n",
       "    <tr>\n",
       "      <th>25%</th>\n",
       "      <td>73.250000</td>\n",
       "      <td>1973.000000</td>\n",
       "      <td>38.000000</td>\n",
       "      <td>2008.000000</td>\n",
       "      <td>15.000000</td>\n",
       "      <td>1.000000</td>\n",
       "      <td>11.000000</td>\n",
       "    </tr>\n",
       "    <tr>\n",
       "      <th>50%</th>\n",
       "      <td>145.500000</td>\n",
       "      <td>1978.500000</td>\n",
       "      <td>45.500000</td>\n",
       "      <td>2009.000000</td>\n",
       "      <td>15.000000</td>\n",
       "      <td>1.000000</td>\n",
       "      <td>14.000000</td>\n",
       "    </tr>\n",
       "    <tr>\n",
       "      <th>75%</th>\n",
       "      <td>217.750000</td>\n",
       "      <td>1986.000000</td>\n",
       "      <td>51.000000</td>\n",
       "      <td>2009.000000</td>\n",
       "      <td>16.000000</td>\n",
       "      <td>2.000000</td>\n",
       "      <td>23.076900</td>\n",
       "    </tr>\n",
       "    <tr>\n",
       "      <th>max</th>\n",
       "      <td>290.000000</td>\n",
       "      <td>1991.000000</td>\n",
       "      <td>73.000000</td>\n",
       "      <td>2013.000000</td>\n",
       "      <td>18.000000</td>\n",
       "      <td>3.000000</td>\n",
       "      <td>125.500000</td>\n",
       "    </tr>\n",
       "  </tbody>\n",
       "</table>\n",
       "</div>"
      ],
      "text/plain": [
       "       BusinessEntityID          DOB         Age     HireYear  Company LOS  \\\n",
       "count        290.000000   290.000000  290.000000   290.000000   290.000000   \n",
       "mean         145.500000  1978.017241   45.982759  2009.017241    14.982759   \n",
       "std           83.860002     9.246886    9.246886     1.006748     1.006748   \n",
       "min            1.000000  1951.000000   33.000000  2006.000000    11.000000   \n",
       "25%           73.250000  1973.000000   38.000000  2008.000000    15.000000   \n",
       "50%          145.500000  1978.500000   45.500000  2009.000000    15.000000   \n",
       "75%          217.750000  1986.000000   51.000000  2009.000000    16.000000   \n",
       "max          290.000000  1991.000000   73.000000  2013.000000    18.000000   \n",
       "\n",
       "         Shift_ID  Hourly Pay Rate  \n",
       "count  290.000000       290.000000  \n",
       "mean     1.572414        17.819179  \n",
       "std      0.778116        12.114226  \n",
       "min      1.000000         6.500000  \n",
       "25%      1.000000        11.000000  \n",
       "50%      1.000000        14.000000  \n",
       "75%      2.000000        23.076900  \n",
       "max      3.000000       125.500000  "
      ]
     },
     "execution_count": 7,
     "metadata": {},
     "output_type": "execute_result"
    }
   ],
   "source": [
    "# summary statistic\n",
    "df.describe()"
   ]
  },
  {
   "cell_type": "code",
   "execution_count": 8,
   "id": "988d5f69",
   "metadata": {
    "_cell_guid": "9f521a9f-4a30-4c2c-a286-6b5fa8d4d783",
    "_uuid": "fa642a1b-f562-43d1-87b6-8f25ab370fe5",
    "collapsed": false,
    "execution": {
     "iopub.execute_input": "2024-05-08T08:30:25.769060Z",
     "iopub.status.busy": "2024-05-08T08:30:25.768683Z",
     "iopub.status.idle": "2024-05-08T08:30:25.781697Z",
     "shell.execute_reply": "2024-05-08T08:30:25.780457Z"
    },
    "jupyter": {
     "outputs_hidden": false
    },
    "papermill": {
     "duration": 0.030943,
     "end_time": "2024-05-08T08:30:25.784284",
     "exception": false,
     "start_time": "2024-05-08T08:30:25.753341",
     "status": "completed"
    },
    "tags": []
   },
   "outputs": [
    {
     "data": {
      "text/plain": [
       "BusinessEntityID       290\n",
       "Full Name              290\n",
       "JobTitle                67\n",
       "Department              16\n",
       "Department_Category      6\n",
       "DOB                     38\n",
       "Age                     38\n",
       "HireYear                 8\n",
       "Company LOS              8\n",
       "Gender                   2\n",
       "Marital Status           2\n",
       "Shift_ID                 3\n",
       "Shift Name               3\n",
       "Hourly Pay Rate         55\n",
       "PayFrequency             2\n",
       "dtype: int64"
      ]
     },
     "execution_count": 8,
     "metadata": {},
     "output_type": "execute_result"
    }
   ],
   "source": [
    "#checking distinct values\n",
    "\n",
    "df.nunique()"
   ]
  },
  {
   "cell_type": "code",
   "execution_count": 9,
   "id": "8b4a6649",
   "metadata": {
    "_cell_guid": "902f77e6-eb5b-49e6-a543-d20320600feb",
    "_uuid": "79e2095e-afb2-4314-aef2-afda92f89786",
    "collapsed": false,
    "execution": {
     "iopub.execute_input": "2024-05-08T08:30:25.815111Z",
     "iopub.status.busy": "2024-05-08T08:30:25.814727Z",
     "iopub.status.idle": "2024-05-08T08:30:25.824004Z",
     "shell.execute_reply": "2024-05-08T08:30:25.823113Z"
    },
    "jupyter": {
     "outputs_hidden": false
    },
    "papermill": {
     "duration": 0.027425,
     "end_time": "2024-05-08T08:30:25.826300",
     "exception": false,
     "start_time": "2024-05-08T08:30:25.798875",
     "status": "completed"
    },
    "tags": []
   },
   "outputs": [
    {
     "data": {
      "text/plain": [
       "0"
      ]
     },
     "execution_count": 9,
     "metadata": {},
     "output_type": "execute_result"
    }
   ],
   "source": [
    "# Checking for duplicated values\n",
    "\n",
    "df.duplicated().sum()"
   ]
  },
  {
   "cell_type": "markdown",
   "id": "9176afe8",
   "metadata": {
    "_cell_guid": "683e6b37-17d1-4965-adbc-681046416183",
    "_uuid": "62a37d6b-34c3-40a0-a5cd-8f5beed5258c",
    "papermill": {
     "duration": 0.01401,
     "end_time": "2024-05-08T08:30:25.854662",
     "exception": false,
     "start_time": "2024-05-08T08:30:25.840652",
     "status": "completed"
    },
    "tags": []
   },
   "source": [
    "# **Analysis**"
   ]
  },
  {
   "cell_type": "markdown",
   "id": "f9c3b733",
   "metadata": {
    "_cell_guid": "452fac52-481e-4105-9b60-335313523631",
    "_uuid": "895b2eb9-0bb9-4caa-b45c-1f9a8e9f7a55",
    "papermill": {
     "duration": 0.014097,
     "end_time": "2024-05-08T08:30:25.883934",
     "exception": false,
     "start_time": "2024-05-08T08:30:25.869837",
     "status": "completed"
    },
    "tags": []
   },
   "source": [
    "## Univariate Analysis"
   ]
  },
  {
   "cell_type": "code",
   "execution_count": 10,
   "id": "56061019",
   "metadata": {
    "_cell_guid": "9b21e808-a309-4d52-a3bf-0ccec4ea098a",
    "_uuid": "bb044bf6-afeb-4d8a-aed0-af8fd7784b68",
    "collapsed": false,
    "execution": {
     "iopub.execute_input": "2024-05-08T08:30:25.915108Z",
     "iopub.status.busy": "2024-05-08T08:30:25.913769Z",
     "iopub.status.idle": "2024-05-08T08:30:28.428496Z",
     "shell.execute_reply": "2024-05-08T08:30:28.427277Z"
    },
    "jupyter": {
     "outputs_hidden": false
    },
    "papermill": {
     "duration": 2.532864,
     "end_time": "2024-05-08T08:30:28.431054",
     "exception": false,
     "start_time": "2024-05-08T08:30:25.898190",
     "status": "completed"
    },
    "tags": []
   },
   "outputs": [
    {
     "data": {
      "application/javascript": [
       "\n",
       "        if (window._pyforest_update_imports_cell) { window._pyforest_update_imports_cell('import matplotlib.pyplot as plt\\nimport pandas as pd'); }\n",
       "    "
      ],
      "text/plain": [
       "<IPython.core.display.Javascript object>"
      ]
     },
     "metadata": {},
     "output_type": "display_data"
    },
    {
     "data": {
      "application/javascript": [
       "\n",
       "        if (window._pyforest_update_imports_cell) { window._pyforest_update_imports_cell('import matplotlib.pyplot as plt\\nimport seaborn as sns\\nimport pandas as pd'); }\n",
       "    "
      ],
      "text/plain": [
       "<IPython.core.display.Javascript object>"
      ]
     },
     "metadata": {},
     "output_type": "display_data"
    },
    {
     "name": "stderr",
     "output_type": "stream",
     "text": [
      "/opt/conda/lib/python3.10/site-packages/seaborn/_oldcore.py:1119: FutureWarning: use_inf_as_na option is deprecated and will be removed in a future version. Convert inf values to NaN before operating instead.\n",
      "  with pd.option_context('mode.use_inf_as_na', True):\n"
     ]
    },
    {
     "data": {
      "application/javascript": [
       "\n",
       "        if (window._pyforest_update_imports_cell) { window._pyforest_update_imports_cell('import matplotlib.pyplot as plt\\nimport seaborn as sns\\nimport pandas as pd'); }\n",
       "    "
      ],
      "text/plain": [
       "<IPython.core.display.Javascript object>"
      ]
     },
     "metadata": {},
     "output_type": "display_data"
    },
    {
     "data": {
      "application/javascript": [
       "\n",
       "        if (window._pyforest_update_imports_cell) { window._pyforest_update_imports_cell('import matplotlib.pyplot as plt\\nimport seaborn as sns\\nimport pandas as pd'); }\n",
       "    "
      ],
      "text/plain": [
       "<IPython.core.display.Javascript object>"
      ]
     },
     "metadata": {},
     "output_type": "display_data"
    },
    {
     "data": {
      "application/javascript": [
       "\n",
       "        if (window._pyforest_update_imports_cell) { window._pyforest_update_imports_cell('import matplotlib.pyplot as plt\\nimport seaborn as sns\\nimport pandas as pd'); }\n",
       "    "
      ],
      "text/plain": [
       "<IPython.core.display.Javascript object>"
      ]
     },
     "metadata": {},
     "output_type": "display_data"
    },
    {
     "data": {
      "image/png": "[encoded data removed]",
      "text/plain": [
       "<Figure size 1200x600 with 2 Axes>"
      ]
     },
     "metadata": {},
     "output_type": "display_data"
    }
   ],
   "source": [
    "# Hourly pay rate Distribution\n",
    "\n",
    "fig, axes = plt.subplots(nrows=1, ncols=2, figsize=(12, 6), dpi=100)\n",
    "\n",
    "# Histogram\n",
    "sns.histplot(data=df, x='Hourly Pay Rate', kde=True, color='blue', bins=30, ax=axes[0])\n",
    "axes[0].set_title('Hourly Pay Rate Distribution')\n",
    "\n",
    "# Boxplot\n",
    "sns.boxplot(data=df, x='Hourly Pay Rate', color='red', ax=axes[1])\n",
    "axes[1].set_title('Hourly Pay Rate Boxplot')\n",
    "\n",
    "# Display the plots\n",
    "plt.tight_layout()\n",
    "plt.show()\n",
    "\n"
   ]
  },
  {
   "cell_type": "code",
   "execution_count": 11,
   "id": "655ef225",
   "metadata": {
    "_cell_guid": "7c1136ab-daaf-4d26-b35f-140fa6f3da20",
    "_uuid": "64ecf5fb-84b9-4059-8115-00179afd8d14",
    "collapsed": false,
    "execution": {
     "iopub.execute_input": "2024-05-08T08:30:28.465369Z",
     "iopub.status.busy": "2024-05-08T08:30:28.464905Z",
     "iopub.status.idle": "2024-05-08T08:30:28.842056Z",
     "shell.execute_reply": "2024-05-08T08:30:28.841059Z"
    },
    "jupyter": {
     "outputs_hidden": false
    },
    "papermill": {
     "duration": 0.39725,
     "end_time": "2024-05-08T08:30:28.844728",
     "exception": false,
     "start_time": "2024-05-08T08:30:28.447478",
     "status": "completed"
    },
    "tags": []
   },
   "outputs": [
    {
     "data": {
      "application/javascript": [
       "\n",
       "        if (window._pyforest_update_imports_cell) { window._pyforest_update_imports_cell('import matplotlib.pyplot as plt\\nimport seaborn as sns\\nimport pandas as pd'); }\n",
       "    "
      ],
      "text/plain": [
       "<IPython.core.display.Javascript object>"
      ]
     },
     "metadata": {},
     "output_type": "display_data"
    },
    {
     "data": {
      "application/javascript": [
       "\n",
       "        if (window._pyforest_update_imports_cell) { window._pyforest_update_imports_cell('import matplotlib.pyplot as plt\\nimport seaborn as sns\\nimport pandas as pd'); }\n",
       "    "
      ],
      "text/plain": [
       "<IPython.core.display.Javascript object>"
      ]
     },
     "metadata": {},
     "output_type": "display_data"
    },
    {
     "data": {
      "application/javascript": [
       "\n",
       "        if (window._pyforest_update_imports_cell) { window._pyforest_update_imports_cell('import matplotlib.pyplot as plt\\nimport seaborn as sns\\nimport pandas as pd'); }\n",
       "    "
      ],
      "text/plain": [
       "<IPython.core.display.Javascript object>"
      ]
     },
     "metadata": {},
     "output_type": "display_data"
    },
    {
     "data": {
      "application/javascript": [
       "\n",
       "        if (window._pyforest_update_imports_cell) { window._pyforest_update_imports_cell('import matplotlib.pyplot as plt\\nimport seaborn as sns\\nimport pandas as pd'); }\n",
       "    "
      ],
      "text/plain": [
       "<IPython.core.display.Javascript object>"
      ]
     },
     "metadata": {},
     "output_type": "display_data"
    },
    {
     "data": {
      "image/png": "[encoded data removed]",
      "text/plain": [
       "<Figure size 2000x1000 with 1 Axes>"
      ]
     },
     "metadata": {},
     "output_type": "display_data"
    }
   ],
   "source": [
    "# Department_Category Count plot\n",
    "\n",
    "plt.figure(figsize = (20, 10), dpi = 100)\n",
    "sns.countplot(data = df, x = 'Department_Category', palette = 'Set3')\n",
    "plt.title(\"Department_Category Count Plot\")\n",
    "plt.show()"
   ]
  },
  {
   "cell_type": "code",
   "execution_count": 12,
   "id": "ef8e26e6",
   "metadata": {
    "_cell_guid": "e00ba375-959d-4d3d-ba2f-3c91c9d00ede",
    "_uuid": "6f75d7f1-74e7-42e7-8d4c-2df77ee279da",
    "collapsed": false,
    "execution": {
     "iopub.execute_input": "2024-05-08T08:30:28.886835Z",
     "iopub.status.busy": "2024-05-08T08:30:28.885762Z",
     "iopub.status.idle": "2024-05-08T08:30:29.190421Z",
     "shell.execute_reply": "2024-05-08T08:30:29.189226Z"
    },
    "jupyter": {
     "outputs_hidden": false
    },
    "papermill": {
     "duration": 0.328,
     "end_time": "2024-05-08T08:30:29.193329",
     "exception": false,
     "start_time": "2024-05-08T08:30:28.865329",
     "status": "completed"
    },
    "tags": []
   },
   "outputs": [
    {
     "data": {
      "application/javascript": [
       "\n",
       "        if (window._pyforest_update_imports_cell) { window._pyforest_update_imports_cell('import matplotlib.pyplot as plt\\nimport seaborn as sns\\nimport pandas as pd'); }\n",
       "    "
      ],
      "text/plain": [
       "<IPython.core.display.Javascript object>"
      ]
     },
     "metadata": {},
     "output_type": "display_data"
    },
    {
     "data": {
      "application/javascript": [
       "\n",
       "        if (window._pyforest_update_imports_cell) { window._pyforest_update_imports_cell('import matplotlib.pyplot as plt\\nimport seaborn as sns\\nimport pandas as pd'); }\n",
       "    "
      ],
      "text/plain": [
       "<IPython.core.display.Javascript object>"
      ]
     },
     "metadata": {},
     "output_type": "display_data"
    },
    {
     "data": {
      "application/javascript": [
       "\n",
       "        if (window._pyforest_update_imports_cell) { window._pyforest_update_imports_cell('import matplotlib.pyplot as plt\\nimport seaborn as sns\\nimport pandas as pd'); }\n",
       "    "
      ],
      "text/plain": [
       "<IPython.core.display.Javascript object>"
      ]
     },
     "metadata": {},
     "output_type": "display_data"
    },
    {
     "data": {
      "application/javascript": [
       "\n",
       "        if (window._pyforest_update_imports_cell) { window._pyforest_update_imports_cell('import matplotlib.pyplot as plt\\nimport seaborn as sns\\nimport pandas as pd'); }\n",
       "    "
      ],
      "text/plain": [
       "<IPython.core.display.Javascript object>"
      ]
     },
     "metadata": {},
     "output_type": "display_data"
    },
    {
     "data": {
      "image/png": "[encoded data removed]",
      "text/plain": [
       "<Figure size 1000x600 with 1 Axes>"
      ]
     },
     "metadata": {},
     "output_type": "display_data"
    }
   ],
   "source": [
    "# Gender Count plot\n",
    "\n",
    "plt.figure(figsize = (10, 6), dpi = 100)\n",
    "sns.countplot(data = df, x = 'Gender', palette = 'Set3')\n",
    "plt.title(\"Gender Column Count\")\n",
    "plt.show()"
   ]
  },
  {
   "cell_type": "code",
   "execution_count": 13,
   "id": "2e868c6d",
   "metadata": {
    "_cell_guid": "a152a260-56d6-4e85-9d8b-33573b9f6ddb",
    "_uuid": "903a6860-fb40-423d-8794-fc26b3182193",
    "collapsed": false,
    "execution": {
     "iopub.execute_input": "2024-05-08T08:30:29.232257Z",
     "iopub.status.busy": "2024-05-08T08:30:29.231783Z",
     "iopub.status.idle": "2024-05-08T08:30:30.047788Z",
     "shell.execute_reply": "2024-05-08T08:30:30.046530Z"
    },
    "jupyter": {
     "outputs_hidden": false
    },
    "papermill": {
     "duration": 0.839513,
     "end_time": "2024-05-08T08:30:30.051337",
     "exception": false,
     "start_time": "2024-05-08T08:30:29.211824",
     "status": "completed"
    },
    "tags": []
   },
   "outputs": [
    {
     "data": {
      "application/javascript": [
       "\n",
       "        if (window._pyforest_update_imports_cell) { window._pyforest_update_imports_cell('import matplotlib.pyplot as plt\\nimport seaborn as sns\\nimport pandas as pd'); }\n",
       "    "
      ],
      "text/plain": [
       "<IPython.core.display.Javascript object>"
      ]
     },
     "metadata": {},
     "output_type": "display_data"
    },
    {
     "data": {
      "application/javascript": [
       "\n",
       "        if (window._pyforest_update_imports_cell) { window._pyforest_update_imports_cell('import matplotlib.pyplot as plt\\nimport seaborn as sns\\nimport pandas as pd'); }\n",
       "    "
      ],
      "text/plain": [
       "<IPython.core.display.Javascript object>"
      ]
     },
     "metadata": {},
     "output_type": "display_data"
    },
    {
     "name": "stderr",
     "output_type": "stream",
     "text": [
      "/opt/conda/lib/python3.10/site-packages/seaborn/_oldcore.py:1119: FutureWarning: use_inf_as_na option is deprecated and will be removed in a future version. Convert inf values to NaN before operating instead.\n",
      "  with pd.option_context('mode.use_inf_as_na', True):\n"
     ]
    },
    {
     "data": {
      "application/javascript": [
       "\n",
       "        if (window._pyforest_update_imports_cell) { window._pyforest_update_imports_cell('import matplotlib.pyplot as plt\\nimport seaborn as sns\\nimport pandas as pd'); }\n",
       "    "
      ],
      "text/plain": [
       "<IPython.core.display.Javascript object>"
      ]
     },
     "metadata": {},
     "output_type": "display_data"
    },
    {
     "data": {
      "application/javascript": [
       "\n",
       "        if (window._pyforest_update_imports_cell) { window._pyforest_update_imports_cell('import matplotlib.pyplot as plt\\nimport seaborn as sns\\nimport pandas as pd'); }\n",
       "    "
      ],
      "text/plain": [
       "<IPython.core.display.Javascript object>"
      ]
     },
     "metadata": {},
     "output_type": "display_data"
    },
    {
     "data": {
      "application/javascript": [
       "\n",
       "        if (window._pyforest_update_imports_cell) { window._pyforest_update_imports_cell('import matplotlib.pyplot as plt\\nimport seaborn as sns\\nimport pandas as pd'); }\n",
       "    "
      ],
      "text/plain": [
       "<IPython.core.display.Javascript object>"
      ]
     },
     "metadata": {},
     "output_type": "display_data"
    },
    {
     "data": {
      "image/png": "[encoded data removed]",
      "text/plain": [
       "<Figure size 1200x600 with 2 Axes>"
      ]
     },
     "metadata": {},
     "output_type": "display_data"
    }
   ],
   "source": [
    "# Age Distribution\n",
    "\n",
    "fig, axes = plt.subplots(nrows=1, ncols=2, figsize=(12, 6), dpi=100)\n",
    "\n",
    "# Histogram\n",
    "sns.histplot(data=df, x='Age', kde=True, color='blue', bins=30, ax=axes[0])\n",
    "axes[0].set_title('Age Distribution')\n",
    "\n",
    "# Boxplot\n",
    "sns.boxplot(data=df, x='Age', color='red', ax=axes[1])\n",
    "axes[1].set_title('Age Boxplot')\n",
    "\n",
    "# Display the plots\n",
    "plt.tight_layout()\n",
    "plt.show()\n"
   ]
  },
  {
   "cell_type": "code",
   "execution_count": 14,
   "id": "b8bd78c0",
   "metadata": {
    "_cell_guid": "da845a04-fcbc-4384-847b-5729c7826a19",
    "_uuid": "8892b020-3a34-4483-b675-8dfa9ebe63e0",
    "collapsed": false,
    "execution": {
     "iopub.execute_input": "2024-05-08T08:30:30.109559Z",
     "iopub.status.busy": "2024-05-08T08:30:30.109167Z",
     "iopub.status.idle": "2024-05-08T08:30:30.899899Z",
     "shell.execute_reply": "2024-05-08T08:30:30.898690Z"
    },
    "jupyter": {
     "outputs_hidden": false
    },
    "papermill": {
     "duration": 0.820409,
     "end_time": "2024-05-08T08:30:30.903353",
     "exception": false,
     "start_time": "2024-05-08T08:30:30.082944",
     "status": "completed"
    },
    "tags": []
   },
   "outputs": [
    {
     "data": {
      "application/javascript": [
       "\n",
       "        if (window._pyforest_update_imports_cell) { window._pyforest_update_imports_cell('import matplotlib.pyplot as plt\\nimport seaborn as sns\\nimport pandas as pd'); }\n",
       "    "
      ],
      "text/plain": [
       "<IPython.core.display.Javascript object>"
      ]
     },
     "metadata": {},
     "output_type": "display_data"
    },
    {
     "data": {
      "application/javascript": [
       "\n",
       "        if (window._pyforest_update_imports_cell) { window._pyforest_update_imports_cell('import matplotlib.pyplot as plt\\nimport seaborn as sns\\nimport pandas as pd'); }\n",
       "    "
      ],
      "text/plain": [
       "<IPython.core.display.Javascript object>"
      ]
     },
     "metadata": {},
     "output_type": "display_data"
    },
    {
     "name": "stderr",
     "output_type": "stream",
     "text": [
      "/opt/conda/lib/python3.10/site-packages/seaborn/_oldcore.py:1119: FutureWarning: use_inf_as_na option is deprecated and will be removed in a future version. Convert inf values to NaN before operating instead.\n",
      "  with pd.option_context('mode.use_inf_as_na', True):\n"
     ]
    },
    {
     "data": {
      "application/javascript": [
       "\n",
       "        if (window._pyforest_update_imports_cell) { window._pyforest_update_imports_cell('import matplotlib.pyplot as plt\\nimport seaborn as sns\\nimport pandas as pd'); }\n",
       "    "
      ],
      "text/plain": [
       "<IPython.core.display.Javascript object>"
      ]
     },
     "metadata": {},
     "output_type": "display_data"
    },
    {
     "data": {
      "application/javascript": [
       "\n",
       "        if (window._pyforest_update_imports_cell) { window._pyforest_update_imports_cell('import matplotlib.pyplot as plt\\nimport seaborn as sns\\nimport pandas as pd'); }\n",
       "    "
      ],
      "text/plain": [
       "<IPython.core.display.Javascript object>"
      ]
     },
     "metadata": {},
     "output_type": "display_data"
    },
    {
     "data": {
      "application/javascript": [
       "\n",
       "        if (window._pyforest_update_imports_cell) { window._pyforest_update_imports_cell('import matplotlib.pyplot as plt\\nimport seaborn as sns\\nimport pandas as pd'); }\n",
       "    "
      ],
      "text/plain": [
       "<IPython.core.display.Javascript object>"
      ]
     },
     "metadata": {},
     "output_type": "display_data"
    },
    {
     "data": {
      "image/png": "[encoded data removed]",
      "text/plain": [
       "<Figure size 1200x600 with 2 Axes>"
      ]
     },
     "metadata": {},
     "output_type": "display_data"
    }
   ],
   "source": [
    "# Company length of Stay Distribution\n",
    "\n",
    "fig, axes = plt.subplots(nrows=1, ncols=2, figsize=(12, 6), dpi=100)\n",
    "\n",
    "# Histogram\n",
    "sns.histplot(data=df, x='Company LOS', kde=True, color='blue', bins=30, ax=axes[0])\n",
    "axes[0].set_title('Company length of Stay Distribution')\n",
    "\n",
    "# Boxplot\n",
    "sns.boxplot(data=df, x='Company LOS', color='red', ax=axes[1])\n",
    "axes[1].set_title('Company length of Stay Boxplot')\n",
    "\n",
    "# Display the plots\n",
    "plt.tight_layout()\n",
    "plt.show()\n"
   ]
  },
  {
   "cell_type": "code",
   "execution_count": 15,
   "id": "c8d93087",
   "metadata": {
    "_cell_guid": "bf207b03-d005-4e7a-ab72-df963764a5ea",
    "_uuid": "c278e2a3-64d6-4313-ba7f-810229c2b546",
    "collapsed": false,
    "execution": {
     "iopub.execute_input": "2024-05-08T08:30:30.953089Z",
     "iopub.status.busy": "2024-05-08T08:30:30.952654Z",
     "iopub.status.idle": "2024-05-08T08:30:31.245089Z",
     "shell.execute_reply": "2024-05-08T08:30:31.243768Z"
    },
    "jupyter": {
     "outputs_hidden": false
    },
    "papermill": {
     "duration": 0.318978,
     "end_time": "2024-05-08T08:30:31.248081",
     "exception": false,
     "start_time": "2024-05-08T08:30:30.929103",
     "status": "completed"
    },
    "tags": []
   },
   "outputs": [
    {
     "data": {
      "application/javascript": [
       "\n",
       "        if (window._pyforest_update_imports_cell) { window._pyforest_update_imports_cell('import matplotlib.pyplot as plt\\nimport seaborn as sns\\nimport pandas as pd'); }\n",
       "    "
      ],
      "text/plain": [
       "<IPython.core.display.Javascript object>"
      ]
     },
     "metadata": {},
     "output_type": "display_data"
    },
    {
     "data": {
      "application/javascript": [
       "\n",
       "        if (window._pyforest_update_imports_cell) { window._pyforest_update_imports_cell('import matplotlib.pyplot as plt\\nimport seaborn as sns\\nimport pandas as pd'); }\n",
       "    "
      ],
      "text/plain": [
       "<IPython.core.display.Javascript object>"
      ]
     },
     "metadata": {},
     "output_type": "display_data"
    },
    {
     "data": {
      "application/javascript": [
       "\n",
       "        if (window._pyforest_update_imports_cell) { window._pyforest_update_imports_cell('import matplotlib.pyplot as plt\\nimport seaborn as sns\\nimport pandas as pd'); }\n",
       "    "
      ],
      "text/plain": [
       "<IPython.core.display.Javascript object>"
      ]
     },
     "metadata": {},
     "output_type": "display_data"
    },
    {
     "data": {
      "application/javascript": [
       "\n",
       "        if (window._pyforest_update_imports_cell) { window._pyforest_update_imports_cell('import matplotlib.pyplot as plt\\nimport seaborn as sns\\nimport pandas as pd'); }\n",
       "    "
      ],
      "text/plain": [
       "<IPython.core.display.Javascript object>"
      ]
     },
     "metadata": {},
     "output_type": "display_data"
    },
    {
     "data": {
      "image/png": "[encoded data removed]",
      "text/plain": [
       "<Figure size 1000x600 with 1 Axes>"
      ]
     },
     "metadata": {},
     "output_type": "display_data"
    }
   ],
   "source": [
    "# Shift Count Plot\n",
    "\n",
    "plt.figure(figsize = (10, 6), dpi = 100)\n",
    "sns.countplot(data = df, x = 'Shift Name', palette = 'Set3')\n",
    "plt.title(\"Shift Column Count\")\n",
    "plt.show()"
   ]
  },
  {
   "cell_type": "code",
   "execution_count": 16,
   "id": "c4322b9e",
   "metadata": {
    "_cell_guid": "63e91db3-267d-4630-9133-4989081188a3",
    "_uuid": "1842043e-99cd-45d3-b6b5-74a5041c84b5",
    "collapsed": false,
    "execution": {
     "iopub.execute_input": "2024-05-08T08:30:31.299959Z",
     "iopub.status.busy": "2024-05-08T08:30:31.299499Z",
     "iopub.status.idle": "2024-05-08T08:30:31.605924Z",
     "shell.execute_reply": "2024-05-08T08:30:31.604440Z"
    },
    "jupyter": {
     "outputs_hidden": false
    },
    "papermill": {
     "duration": 0.334348,
     "end_time": "2024-05-08T08:30:31.608898",
     "exception": false,
     "start_time": "2024-05-08T08:30:31.274550",
     "status": "completed"
    },
    "tags": []
   },
   "outputs": [
    {
     "data": {
      "application/javascript": [
       "\n",
       "        if (window._pyforest_update_imports_cell) { window._pyforest_update_imports_cell('import matplotlib.pyplot as plt\\nimport seaborn as sns\\nimport pandas as pd'); }\n",
       "    "
      ],
      "text/plain": [
       "<IPython.core.display.Javascript object>"
      ]
     },
     "metadata": {},
     "output_type": "display_data"
    },
    {
     "data": {
      "application/javascript": [
       "\n",
       "        if (window._pyforest_update_imports_cell) { window._pyforest_update_imports_cell('import matplotlib.pyplot as plt\\nimport seaborn as sns\\nimport pandas as pd'); }\n",
       "    "
      ],
      "text/plain": [
       "<IPython.core.display.Javascript object>"
      ]
     },
     "metadata": {},
     "output_type": "display_data"
    },
    {
     "data": {
      "application/javascript": [
       "\n",
       "        if (window._pyforest_update_imports_cell) { window._pyforest_update_imports_cell('import matplotlib.pyplot as plt\\nimport seaborn as sns\\nimport pandas as pd'); }\n",
       "    "
      ],
      "text/plain": [
       "<IPython.core.display.Javascript object>"
      ]
     },
     "metadata": {},
     "output_type": "display_data"
    },
    {
     "data": {
      "application/javascript": [
       "\n",
       "        if (window._pyforest_update_imports_cell) { window._pyforest_update_imports_cell('import matplotlib.pyplot as plt\\nimport seaborn as sns\\nimport pandas as pd'); }\n",
       "    "
      ],
      "text/plain": [
       "<IPython.core.display.Javascript object>"
      ]
     },
     "metadata": {},
     "output_type": "display_data"
    },
    {
     "data": {
      "image/png": "[encoded data removed]",
      "text/plain": [
       "<Figure size 1000x600 with 1 Axes>"
      ]
     },
     "metadata": {},
     "output_type": "display_data"
    }
   ],
   "source": [
    "# Pay Frequency Countplot\n",
    "\n",
    "plt.figure(figsize = (10, 6), dpi = 100)\n",
    "sns.countplot(data = df, x = 'PayFrequency', palette = 'Set3')\n",
    "plt.title(\"PayFrequency Column Count\")\n",
    "plt.show()"
   ]
  },
  {
   "cell_type": "markdown",
   "id": "4e2d07f3",
   "metadata": {
    "_cell_guid": "294efebd-1ba6-441a-b216-2e8c0be7f725",
    "_uuid": "0fdbec14-d908-4634-90e9-064c1c91094e",
    "papermill": {
     "duration": 0.025126,
     "end_time": "2024-05-08T08:30:31.658363",
     "exception": false,
     "start_time": "2024-05-08T08:30:31.633237",
     "status": "completed"
    },
    "tags": []
   },
   "source": [
    "# ANSWERING THE BUSINESS QUESTIONS"
   ]
  },
  {
   "cell_type": "markdown",
   "id": "58fbb745",
   "metadata": {
    "_cell_guid": "551b0354-6e8b-420f-96df-8e7b409f5d6b",
    "_uuid": "973509a6-8121-467a-baca-042904e335bf",
    "papermill": {
     "duration": 0.024146,
     "end_time": "2024-05-08T08:30:31.706445",
     "exception": false,
     "start_time": "2024-05-08T08:30:31.682299",
     "status": "completed"
    },
    "tags": []
   },
   "source": [
    "## Are There Any Pay Disparities Between Different Groups (Gender, Department & Shift)"
   ]
  },
  {
   "cell_type": "code",
   "execution_count": 17,
   "id": "da93844c",
   "metadata": {
    "execution": {
     "iopub.execute_input": "2024-05-08T08:30:31.759890Z",
     "iopub.status.busy": "2024-05-08T08:30:31.759472Z",
     "iopub.status.idle": "2024-05-08T08:30:32.514069Z",
     "shell.execute_reply": "2024-05-08T08:30:32.512838Z"
    },
    "papermill": {
     "duration": 0.784451,
     "end_time": "2024-05-08T08:30:32.516770",
     "exception": false,
     "start_time": "2024-05-08T08:30:31.732319",
     "status": "completed"
    },
    "tags": []
   },
   "outputs": [
    {
     "data": {
      "application/javascript": [
       "\n",
       "        if (window._pyforest_update_imports_cell) { window._pyforest_update_imports_cell('import matplotlib.pyplot as plt\\nimport seaborn as sns\\nimport pandas as pd'); }\n",
       "    "
      ],
      "text/plain": [
       "<IPython.core.display.Javascript object>"
      ]
     },
     "metadata": {},
     "output_type": "display_data"
    },
    {
     "data": {
      "application/javascript": [
       "\n",
       "        if (window._pyforest_update_imports_cell) { window._pyforest_update_imports_cell('import matplotlib.pyplot as plt\\nimport seaborn as sns\\nimport pandas as pd'); }\n",
       "    "
      ],
      "text/plain": [
       "<IPython.core.display.Javascript object>"
      ]
     },
     "metadata": {},
     "output_type": "display_data"
    },
    {
     "data": {
      "application/javascript": [
       "\n",
       "        if (window._pyforest_update_imports_cell) { window._pyforest_update_imports_cell('import matplotlib.pyplot as plt\\nimport seaborn as sns\\nimport pandas as pd'); }\n",
       "    "
      ],
      "text/plain": [
       "<IPython.core.display.Javascript object>"
      ]
     },
     "metadata": {},
     "output_type": "display_data"
    },
    {
     "data": {
      "application/javascript": [
       "\n",
       "        if (window._pyforest_update_imports_cell) { window._pyforest_update_imports_cell('import matplotlib.pyplot as plt\\nimport seaborn as sns\\nimport pandas as pd'); }\n",
       "    "
      ],
      "text/plain": [
       "<IPython.core.display.Javascript object>"
      ]
     },
     "metadata": {},
     "output_type": "display_data"
    },
    {
     "data": {
      "application/javascript": [
       "\n",
       "        if (window._pyforest_update_imports_cell) { window._pyforest_update_imports_cell('import matplotlib.pyplot as plt\\nimport seaborn as sns\\nimport pandas as pd'); }\n",
       "    "
      ],
      "text/plain": [
       "<IPython.core.display.Javascript object>"
      ]
     },
     "metadata": {},
     "output_type": "display_data"
    },
    {
     "data": {
      "image/png": "[encoded data removed]",
      "text/plain": [
       "<Figure size 1000x600 with 2 Axes>"
      ]
     },
     "metadata": {},
     "output_type": "display_data"
    }
   ],
   "source": [
    "# Create a figure and a grid of subplots\n",
    "fig, axes = plt.subplots(nrows=1, ncols=2, figsize=(10, 6), dpi=100)\n",
    "\n",
    "# Barplot\n",
    "sns.barplot(x='Gender', y='Hourly Pay Rate', data=df, ax=axes[0])\n",
    "axes[0].set_title('Hourly Pay Rate by Gender')\n",
    "\n",
    "# Boxplot\n",
    "sns.boxplot(x='Gender', y='Hourly Pay Rate', data=df, ax=axes[1])\n",
    "axes[1].set_title('Hourly Pay Rate by Gender')\n",
    "\n",
    "# Display the plots\n",
    "plt.tight_layout()\n",
    "plt.show()\n"
   ]
  },
  {
   "cell_type": "markdown",
   "id": "2e0dbf87",
   "metadata": {
    "papermill": {
     "duration": 0.025583,
     "end_time": "2024-05-08T08:30:32.567514",
     "exception": false,
     "start_time": "2024-05-08T08:30:32.541931",
     "status": "completed"
    },
    "tags": []
   },
   "source": [
    "> ***Females have a slight higher hourly compensation rate compared to males***"
   ]
  },
  {
   "cell_type": "code",
   "execution_count": 18,
   "id": "c624d143",
   "metadata": {
    "execution": {
     "iopub.execute_input": "2024-05-08T08:30:32.621189Z",
     "iopub.status.busy": "2024-05-08T08:30:32.620805Z",
     "iopub.status.idle": "2024-05-08T08:30:33.264051Z",
     "shell.execute_reply": "2024-05-08T08:30:33.263141Z"
    },
    "papermill": {
     "duration": 0.67279,
     "end_time": "2024-05-08T08:30:33.266693",
     "exception": false,
     "start_time": "2024-05-08T08:30:32.593903",
     "status": "completed"
    },
    "tags": []
   },
   "outputs": [
    {
     "data": {
      "application/javascript": [
       "\n",
       "        if (window._pyforest_update_imports_cell) { window._pyforest_update_imports_cell('import matplotlib.pyplot as plt\\nimport seaborn as sns\\nimport pandas as pd'); }\n",
       "    "
      ],
      "text/plain": [
       "<IPython.core.display.Javascript object>"
      ]
     },
     "metadata": {},
     "output_type": "display_data"
    },
    {
     "data": {
      "application/javascript": [
       "\n",
       "        if (window._pyforest_update_imports_cell) { window._pyforest_update_imports_cell('import matplotlib.pyplot as plt\\nimport seaborn as sns\\nimport pandas as pd'); }\n",
       "    "
      ],
      "text/plain": [
       "<IPython.core.display.Javascript object>"
      ]
     },
     "metadata": {},
     "output_type": "display_data"
    },
    {
     "data": {
      "application/javascript": [
       "\n",
       "        if (window._pyforest_update_imports_cell) { window._pyforest_update_imports_cell('import matplotlib.pyplot as plt\\nimport seaborn as sns\\nimport pandas as pd'); }\n",
       "    "
      ],
      "text/plain": [
       "<IPython.core.display.Javascript object>"
      ]
     },
     "metadata": {},
     "output_type": "display_data"
    },
    {
     "data": {
      "application/javascript": [
       "\n",
       "        if (window._pyforest_update_imports_cell) { window._pyforest_update_imports_cell('import matplotlib.pyplot as plt\\nimport seaborn as sns\\nimport pandas as pd'); }\n",
       "    "
      ],
      "text/plain": [
       "<IPython.core.display.Javascript object>"
      ]
     },
     "metadata": {},
     "output_type": "display_data"
    },
    {
     "data": {
      "image/png": "[encoded data removed]",
      "text/plain": [
       "<Figure size 2000x1200 with 1 Axes>"
      ]
     },
     "metadata": {},
     "output_type": "display_data"
    }
   ],
   "source": [
    "# Create a figure and a grid of subplots\n",
    "plt.figure(figsize= (20, 12), dpi=100)\n",
    "\n",
    "# Barplot\n",
    "sns.barplot(x='Department_Category', y='Hourly Pay Rate', data=df)\n",
    "plt.title('Hourly Pay Rate by Department_Category')\n",
    "\n",
    "# Display the plots\n",
    "plt.show()\n"
   ]
  },
  {
   "cell_type": "markdown",
   "id": "e5e3e835",
   "metadata": {
    "papermill": {
     "duration": 0.026853,
     "end_time": "2024-05-08T08:30:33.321060",
     "exception": false,
     "start_time": "2024-05-08T08:30:33.294207",
     "status": "completed"
    },
    "tags": []
   },
   "source": [
    ">  ***Research and development, Executive General and Administartion, Sales and Marketing lead with a higher hourly compensation rate as compared to the other department category***"
   ]
  },
  {
   "cell_type": "code",
   "execution_count": 19,
   "id": "82934d9c",
   "metadata": {
    "execution": {
     "iopub.execute_input": "2024-05-08T08:30:33.376809Z",
     "iopub.status.busy": "2024-05-08T08:30:33.375912Z",
     "iopub.status.idle": "2024-05-08T08:30:34.026360Z",
     "shell.execute_reply": "2024-05-08T08:30:34.024966Z"
    },
    "papermill": {
     "duration": 0.681414,
     "end_time": "2024-05-08T08:30:34.029210",
     "exception": false,
     "start_time": "2024-05-08T08:30:33.347796",
     "status": "completed"
    },
    "tags": []
   },
   "outputs": [
    {
     "data": {
      "application/javascript": [
       "\n",
       "        if (window._pyforest_update_imports_cell) { window._pyforest_update_imports_cell('import matplotlib.pyplot as plt\\nimport seaborn as sns\\nimport pandas as pd'); }\n",
       "    "
      ],
      "text/plain": [
       "<IPython.core.display.Javascript object>"
      ]
     },
     "metadata": {},
     "output_type": "display_data"
    },
    {
     "data": {
      "application/javascript": [
       "\n",
       "        if (window._pyforest_update_imports_cell) { window._pyforest_update_imports_cell('import matplotlib.pyplot as plt\\nimport seaborn as sns\\nimport pandas as pd'); }\n",
       "    "
      ],
      "text/plain": [
       "<IPython.core.display.Javascript object>"
      ]
     },
     "metadata": {},
     "output_type": "display_data"
    },
    {
     "data": {
      "application/javascript": [
       "\n",
       "        if (window._pyforest_update_imports_cell) { window._pyforest_update_imports_cell('import matplotlib.pyplot as plt\\nimport seaborn as sns\\nimport pandas as pd'); }\n",
       "    "
      ],
      "text/plain": [
       "<IPython.core.display.Javascript object>"
      ]
     },
     "metadata": {},
     "output_type": "display_data"
    },
    {
     "data": {
      "application/javascript": [
       "\n",
       "        if (window._pyforest_update_imports_cell) { window._pyforest_update_imports_cell('import matplotlib.pyplot as plt\\nimport seaborn as sns\\nimport pandas as pd'); }\n",
       "    "
      ],
      "text/plain": [
       "<IPython.core.display.Javascript object>"
      ]
     },
     "metadata": {},
     "output_type": "display_data"
    },
    {
     "data": {
      "application/javascript": [
       "\n",
       "        if (window._pyforest_update_imports_cell) { window._pyforest_update_imports_cell('import matplotlib.pyplot as plt\\nimport seaborn as sns\\nimport pandas as pd'); }\n",
       "    "
      ],
      "text/plain": [
       "<IPython.core.display.Javascript object>"
      ]
     },
     "metadata": {},
     "output_type": "display_data"
    },
    {
     "data": {
      "image/png": "[encoded data removed]",
      "text/plain": [
       "<Figure size 1000x600 with 2 Axes>"
      ]
     },
     "metadata": {},
     "output_type": "display_data"
    }
   ],
   "source": [
    "# Create a figure and a grid of subplots\n",
    "fig, axes = plt.subplots(nrows=1, ncols=2, figsize=(10, 6), dpi=100)\n",
    "\n",
    "# Barplot\n",
    "sns.barplot(x='Shift Name', y='Hourly Pay Rate', data=df, ax=axes[0])\n",
    "axes[0].set_title('Hourly Pay Rate by Shift')\n",
    "\n",
    "# Boxplot\n",
    "sns.boxplot(x='Shift Name', y='Hourly Pay Rate', data=df, ax=axes[1])\n",
    "axes[1].set_title('Hourly Pay Rate by Shift')\n",
    "\n",
    "# Display the plots\n",
    "plt.tight_layout()\n",
    "plt.show()\n"
   ]
  },
  {
   "cell_type": "markdown",
   "id": "3c27859b",
   "metadata": {
    "papermill": {
     "duration": 0.027889,
     "end_time": "2024-05-08T08:30:34.085832",
     "exception": false,
     "start_time": "2024-05-08T08:30:34.057943",
     "status": "completed"
    },
    "tags": []
   },
   "source": [
    "> ***Employees working in day shift receieve a slight higher compensation rate compared to the other shifts***"
   ]
  },
  {
   "cell_type": "markdown",
   "id": "ea7b2e3c",
   "metadata": {
    "papermill": {
     "duration": 0.027912,
     "end_time": "2024-05-08T08:30:34.206101",
     "exception": false,
     "start_time": "2024-05-08T08:30:34.178189",
     "status": "completed"
    },
    "tags": []
   },
   "source": [
    "## Insights"
   ]
  },
  {
   "cell_type": "markdown",
   "id": "df69f018",
   "metadata": {
    "papermill": {
     "duration": 0.028854,
     "end_time": "2024-05-08T08:30:34.264109",
     "exception": false,
     "start_time": "2024-05-08T08:30:34.235255",
     "status": "completed"
    },
    "tags": []
   },
   "source": [
    "## How Competitive is our Hourly Compensation with the Market Average rate"
   ]
  },
  {
   "cell_type": "markdown",
   "id": "994bdbfd",
   "metadata": {
    "papermill": {
     "duration": 0.028199,
     "end_time": "2024-05-08T08:30:34.321156",
     "exception": false,
     "start_time": "2024-05-08T08:30:34.292957",
     "status": "completed"
    },
    "tags": []
   },
   "source": [
    "* The average market hourly compensation rate is **26.5**\n",
    "* Adventures Works average hourly compensation rate is **17.8**\n",
    "* There is a difference of **8.7** with the market average hourly compenstation\n",
    "\n",
    "> We are underpaying our employees"
   ]
  },
  {
   "cell_type": "markdown",
   "id": "85090a04",
   "metadata": {
    "papermill": {
     "duration": 0.028455,
     "end_time": "2024-05-08T08:30:34.378488",
     "exception": false,
     "start_time": "2024-05-08T08:30:34.350033",
     "status": "completed"
    },
    "tags": []
   },
   "source": [
    "## This then explains why"
   ]
  },
  {
   "cell_type": "markdown",
   "id": "332fbc6a",
   "metadata": {
    "papermill": {
     "duration": 0.028462,
     "end_time": "2024-05-08T08:30:34.435447",
     "exception": false,
     "start_time": "2024-05-08T08:30:34.406985",
     "status": "completed"
    },
    "tags": []
   },
   "source": [
    "* Certain departments have a high turnover rate \n",
    "* There is a struggle to attract and retain top talent\n",
    "* There is low work perfomance and output\n",
    "* Constant complains and strikes from employees"
   ]
  },
  {
   "cell_type": "markdown",
   "id": "59483558",
   "metadata": {
    "papermill": {
     "duration": 0.028447,
     "end_time": "2024-05-08T08:30:34.492198",
     "exception": false,
     "start_time": "2024-05-08T08:30:34.463751",
     "status": "completed"
    },
    "tags": []
   },
   "source": [
    "## Way Forwad"
   ]
  },
  {
   "cell_type": "markdown",
   "id": "e3318f81",
   "metadata": {
    "papermill": {
     "duration": 0.027898,
     "end_time": "2024-05-08T08:30:34.548671",
     "exception": false,
     "start_time": "2024-05-08T08:30:34.520773",
     "status": "completed"
    },
    "tags": []
   },
   "source": [
    "* The analysis reveals significant pay disparities between different groups (e.g., gender,department & shift), the organization might need to review its compensation policies to ensure fairness and compliance with equal pay laws.\n",
    "* The analysis reveals the organization’s compensation is significantly lower than the market average. In this case, the organization might consider increasing its compensation levels or offering other benefits to remain competitive.\n",
    "* The analysis reveals that certain departments have a high turnover rate and these departments also have lower average salaries. The organization could consider increasing salaries in these departments or looking into other factors that might be contributing to the high turnover."
   ]
  }
 ],
 "metadata": {
  "kaggle": {
   "accelerator": "none",
   "dataSources": [
    {
     "datasetId": 4957777,
     "sourceId": 8345923,
     "sourceType": "datasetVersion"
    }
   ],
   "dockerImageVersionId": 30698,
   "isGpuEnabled": false,
   "isInternetEnabled": true,
   "language": "python",
   "sourceType": "notebook"
  },
  "kernelspec": {
   "display_name": "Python 3",
   "language": "python",
   "name": "python3"
  },
  "language_info": {
   "codemirror_mode": {
    "name": "ipython",
    "version": 3
   },
   "file_extension": ".py",
   "mimetype": "text/x-python",
   "name": "python",
   "nbconvert_exporter": "python",
   "pygments_lexer": "ipython3",
   "version": "3.10.13"
  },
  "papermill": {
   "default_parameters": {},
   "duration": 35.635895,
   "end_time": "2024-05-08T08:30:35.299974",
   "environment_variables": {},
   "exception": null,
   "input_path": "__notebook__.ipynb",
   "output_path": "__notebook__.ipynb",
   "parameters": {},
   "start_time": "2024-05-08T08:29:59.664079",
   "version": "2.5.0"
  }
 },
 "nbformat": 4,
 "nbformat_minor": 5
}
